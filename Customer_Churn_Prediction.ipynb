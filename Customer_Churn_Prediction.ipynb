{
  "nbformat": 4,
  "nbformat_minor": 0,
  "metadata": {
    "colab": {
      "provenance": [],
      "authorship_tag": "ABX9TyNLfHJ45erIkFQ3FVpt91S8",
      "include_colab_link": true
    },
    "kernelspec": {
      "name": "python3",
      "display_name": "Python 3"
    },
    "language_info": {
      "name": "python"
    }
  },
  "cells": [
    {
      "cell_type": "markdown",
      "metadata": {
        "id": "view-in-github",
        "colab_type": "text"
      },
      "source": [
        "<a href=\"https://colab.research.google.com/github/AlisionXue/Predictive-Model-Class/blob/main/Customer_Churn_Prediction.ipynb\" target=\"_parent\"><img src=\"https://colab.research.google.com/assets/colab-badge.svg\" alt=\"Open In Colab\"/></a>"
      ]
    },
    {
      "cell_type": "code",
      "source": [
        "# —— Install dependencies —— #\n",
        "!pip install -q gdown scikit-learn matplotlib pillow\n",
        "\n",
        "import gdown\n",
        "import pandas as pd\n",
        "import numpy as np\n",
        "import matplotlib.pyplot as plt\n",
        "import matplotlib.animation as animation\n",
        "from sklearn.preprocessing import LabelEncoder\n",
        "from sklearn.model_selection import KFold\n",
        "from sklearn.metrics import roc_curve, auc, precision_recall_curve\n",
        "from sklearn.linear_model import LogisticRegression\n",
        "from sklearn.tree import DecisionTreeClassifier\n",
        "from sklearn.ensemble import RandomForestClassifier\n",
        "from sklearn.naive_bayes import GaussianNB\n",
        "from sklearn.svm import SVC\n",
        "from google.colab import files\n",
        "\n",
        "# —— 1. Download & Load Data —— #\n",
        "file_id = \"18WH0LIH0IhMlvVz2WAV9MNHFSyFeRYnD\"\n",
        "gdown.download(f\"https://drive.google.com/uc?id={file_id}\", \"client_data.csv\", quiet=False)\n",
        "data = pd.read_csv(\"client_data.csv\")\n",
        "\n",
        "# —— 2. Preprocessing —— #\n",
        "# Assume the first column is the churn label (0/1), rest are features\n",
        "target_col = data.columns[0]\n",
        "X = data.drop(target_col, axis=1)\n",
        "y = data[target_col].copy()\n",
        "\n",
        "# Encode categorical features\n",
        "for col in X.select_dtypes(include=['object']).columns:\n",
        "    X[col] = LabelEncoder().fit_transform(X[col].astype(str))\n",
        "if y.dtype == 'object':\n",
        "    y = LabelEncoder().fit_transform(y)\n",
        "\n",
        "# Keep only selected key features\n",
        "selected_features = [\n",
        "    'total_charges',\n",
        "    'total_long_distance_charges',\n",
        "    'age',\n",
        "    'total_extra_data_charges',\n",
        "    'total_refunds',\n",
        "    'gender'\n",
        "]\n",
        "X = X[selected_features]\n",
        "\n",
        "# —— 3. Train Models & Compute Curve Data —— #\n",
        "models = {\n",
        "    \"Logistic\": LogisticRegression(C=0.01, penalty='l2', solver='liblinear', max_iter=1000),\n",
        "    \"Tree\":     DecisionTreeClassifier(max_depth=5, min_samples_leaf=2, min_samples_split=2),\n",
        "    \"Forest\":   RandomForestClassifier(n_estimators=50, max_depth=10, min_samples_split=10),\n",
        "    \"NB\":       GaussianNB(),\n",
        "    \"SVM\":      SVC(probability=True)\n",
        "}\n",
        "\n",
        "kf = KFold(n_splits=5, shuffle=True, random_state=42)\n",
        "roc_data = {}\n",
        "pr_data  = {}\n",
        "\n",
        "for name, model in models.items():\n",
        "    all_true = []\n",
        "    all_proba = []\n",
        "    for train_idx, test_idx in kf.split(X, y):\n",
        "        model.fit(X.iloc[train_idx], y[train_idx])\n",
        "        proba = model.predict_proba(X.iloc[test_idx])[:, 1]\n",
        "        all_true.append(y[test_idx])\n",
        "        all_proba.append(proba)\n",
        "    y_true = np.concatenate(all_true)\n",
        "    y_proba = np.concatenate(all_proba)\n",
        "\n",
        "    fpr, tpr, _ = roc_curve(y_true, y_proba)\n",
        "    roc_data[name] = (fpr, tpr)\n",
        "    rec, pre, _ = precision_recall_curve(y_true, y_proba)\n",
        "    pr_data[name] = (rec, pre)\n",
        "\n",
        "# —— 4. Plot & Save Animated ROC Curve —— #\n",
        "fig1, ax1 = plt.subplots(figsize=(6, 6))\n",
        "ax1.set_xlim(0, 1)\n",
        "ax1.set_ylim(0, 1)\n",
        "ax1.s\n"
      ],
      "metadata": {
        "id": "yPsNwaxtRkB-"
      },
      "execution_count": null,
      "outputs": []
    }
  ]
}